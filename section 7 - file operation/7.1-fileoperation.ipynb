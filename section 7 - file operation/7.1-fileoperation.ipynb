{
 "cells": [
  {
   "cell_type": "markdown",
   "metadata": {},
   "source": [
    "# File Operation- Read And Write Files\n",
    "\n",
    "File handling is a crucial part of any programming language. Python provides built-in functions and methods to read from and write to files, both text and binary. This lesson will cover the basics of file handling, including reading and writing text files and binary files."
   ]
  },
  {
   "cell_type": "code",
   "execution_count": 5,
   "metadata": {},
   "outputs": [
    {
     "name": "stdout",
     "output_type": "stream",
     "text": [
      "This is an example file.\n",
      "It contains sample text data.\n"
     ]
    }
   ],
   "source": [
    "with open('example.txt','r') as file:\n",
    "    content=file.read()\n",
    "    print(content)"
   ]
  },
  {
   "cell_type": "code",
   "execution_count": 2,
   "metadata": {},
   "outputs": [
    {
     "name": "stdout",
     "output_type": "stream",
     "text": [
      "This is an example file.\n",
      "It contains sample text data.\n"
     ]
    }
   ],
   "source": [
    "## read a file line by line\n",
    "with open(\"example.txt\",\"r\") as file:\n",
    "    for line in file:\n",
    "        print(line.strip()) #strip() removes the newline character"
   ]
  },
  {
   "cell_type": "code",
   "execution_count": 3,
   "metadata": {},
   "outputs": [],
   "source": [
    "#Writing a file(overwriting)\n",
    "\n",
    "with open('example.txt','w') as file:\n",
    "    file.write('hello world!\\n')\n",
    "    file.write('this is a new line.')"
   ]
  },
  {
   "cell_type": "code",
   "execution_count": 6,
   "metadata": {},
   "outputs": [],
   "source": [
    "## write a file(without overwriting)\n",
    "with open('example.txt','a') as file:\n",
    "    file.write(\"append operation taking place!\\n\")"
   ]
  },
  {
   "cell_type": "code",
   "execution_count": 8,
   "metadata": {},
   "outputs": [],
   "source": [
    "## writing a list of lines to a file \n",
    "lines = ['first line \\n','second line \\n','third line\\n']\n",
    "with open('example.txt','a') as file:\n",
    "\tfile.writelines(lines)"
   ]
  },
  {
   "cell_type": "code",
   "execution_count": 11,
   "metadata": {},
   "outputs": [],
   "source": [
    "## binary files\n",
    "\n",
    "# writing to binary file\n",
    "\n",
    "data = b'\\x00\\x01\\x02\\x03\\x04'\n",
    "with open('example.bin','wb') as file:\n",
    "    file.write(data)"
   ]
  },
  {
   "cell_type": "code",
   "execution_count": 12,
   "metadata": {},
   "outputs": [
    {
     "name": "stdout",
     "output_type": "stream",
     "text": [
      "b'\\x00\\x01\\x02\\x03\\x04'\n"
     ]
    }
   ],
   "source": [
    "# reading a binary file\n",
    "\n",
    "with open('example.bin','rb') as file:\n",
    "    content = file.read()\n",
    "    print(content)"
   ]
  },
  {
   "cell_type": "code",
   "execution_count": 13,
   "metadata": {},
   "outputs": [],
   "source": [
    "### read the content from source text file and awrite to a destination text file\n",
    "# copying a text file\n",
    "with open(\"example.txt\",\"r\") as source_file:\n",
    "    content = source_file.read()\n",
    "\n",
    "with open('destination.txt','w') as destination_file:\n",
    "    destination_file.write(content)"
   ]
  },
  {
   "cell_type": "code",
   "execution_count": 16,
   "metadata": {},
   "outputs": [
    {
     "name": "stdout",
     "output_type": "stream",
     "text": [
      "lines:6,words:23,characters:160\n"
     ]
    }
   ],
   "source": [
    "# read a text file and count the number of lines,words and characters.\n",
    "# counting lines, words and characters in a text file\n",
    "\n",
    "def count_text_file(file_path):\n",
    "    with open(file_path, 'r') as file:\n",
    "        lines = file.readlines()\n",
    "        line_count = len(lines)\n",
    "        word_count = sum(len(line.split()) for line in lines)\n",
    "        char_count = sum(len(line) for line in lines)\n",
    "        return line_count,word_count,char_count\n",
    "    \n",
    "file_path = 'example.txt'\n",
    "lines, words, characters = count_text_file(file_path)\n",
    "print(f'lines:{lines},words:{words},characters:{characters}')"
   ]
  },
  {
   "cell_type": "markdown",
   "metadata": {},
   "source": [
    "The w+ mode in Python is used to open a file for both reading and writing. If the file does not exist, it will be created. If the file exists, its content is truncated (i.e., the file is overwritten)."
   ]
  },
  {
   "cell_type": "code",
   "execution_count": 19,
   "metadata": {},
   "outputs": [
    {
     "name": "stdout",
     "output_type": "stream",
     "text": [
      "hello world\n",
      "the is a new line \n",
      "\n"
     ]
    }
   ],
   "source": [
    "## writing and then reading a file \n",
    "\n",
    "with open('example.txt','w+') as file:\n",
    "    file.write(\"hello world\\n\")\n",
    "    file.write(\"the is a new line \\n\")\n",
    "\n",
    "    ## move the file cursor to the beginning\n",
    "    file.seek(0)\n",
    "\n",
    "    ## read the content of the file\n",
    "    content = file.read()\n",
    "    print(content)"
   ]
  },
  {
   "cell_type": "code",
   "execution_count": 21,
   "metadata": {},
   "outputs": [
    {
     "name": "stdout",
     "output_type": "stream",
     "text": [
      "Directory 'package' created\n"
     ]
    }
   ],
   "source": [
    "import os\n",
    "\n",
    "## create a new directory\n",
    "new_directory = \"package\"\n",
    "os.mkdir(new_directory)\n",
    "print(f\"Directory '{new_directory}' created\")"
   ]
  },
  {
   "cell_type": "code",
   "execution_count": 22,
   "metadata": {},
   "outputs": [
    {
     "name": "stdout",
     "output_type": "stream",
     "text": [
      "['7.1-fileoperation.ipynb', 'destination.txt', 'example.bin', 'example.txt', 'package']\n"
     ]
    }
   ],
   "source": [
    "## listing files and directories \n",
    "items=os.listdir('.')\n",
    "print(items)"
   ]
  },
  {
   "cell_type": "code",
   "execution_count": 23,
   "metadata": {},
   "outputs": [
    {
     "name": "stdout",
     "output_type": "stream",
     "text": [
      "folder\\file.txt\n"
     ]
    }
   ],
   "source": [
    "### joining paths\n",
    "\n",
    "dir_name = \"folder\"\n",
    "file_name=\"file.txt\"\n",
    "full_path=os.path.join(dir_name,file_name)\n",
    "print(full_path)"
   ]
  },
  {
   "cell_type": "code",
   "execution_count": 24,
   "metadata": {},
   "outputs": [
    {
     "name": "stdout",
     "output_type": "stream",
     "text": [
      "folder\\file.txt\n"
     ]
    }
   ],
   "source": [
    "dir_name = \"folder\"\n",
    "file_name = os.path.join(os.getcwd(),dir_name,file_name)\n",
    "print(full_path)"
   ]
  },
  {
   "cell_type": "code",
   "execution_count": 25,
   "metadata": {},
   "outputs": [
    {
     "name": "stdout",
     "output_type": "stream",
     "text": [
      "the path 'example.txt\n"
     ]
    }
   ],
   "source": [
    "path='example.txt'\n",
    "if os.path.exists(path):\n",
    "    print(f\"the path '{path}\")\n",
    "else:\n",
    "    print(f\"the path '{path}' doesnot exists\")"
   ]
  },
  {
   "cell_type": "code",
   "execution_count": 26,
   "metadata": {},
   "outputs": [
    {
     "name": "stdout",
     "output_type": "stream",
     "text": [
      "the path 'example.txt' is a file.\n"
     ]
    }
   ],
   "source": [
    "#checking if a path is a file or directory\n",
    "\n",
    "import os\n",
    "\n",
    "path = 'example.txt'\n",
    "if os.path.isfile(path):\n",
    "    print(f\"the path '{path}' is a file.\")\n",
    "elif os.path.isdir(path):\n",
    "    print(f\"the path '{path}' is a directory.\")\n",
    "else:\n",
    "    print(f\"the path '{path}' is neither a file nor a directory.\")"
   ]
  },
  {
   "cell_type": "code",
   "execution_count": 27,
   "metadata": {},
   "outputs": [
    {
     "name": "stdout",
     "output_type": "stream",
     "text": [
      "c:\\Users\\Uthsavi YP\\OneDrive\\Desktop\\udemy\\Complete-Data-Science-Machine-Learning-DL-NLP-Practice\\section 7 - file operation\\example.txt\n"
     ]
    }
   ],
   "source": [
    "## getting the absolute path\n",
    "relative_path = 'example.txt'\n",
    "absolute_path = os.path.abspath(relative_path)\n",
    "print(absolute_path)"
   ]
  }
 ],
 "metadata": {
  "kernelspec": {
   "display_name": "base",
   "language": "python",
   "name": "python3"
  },
  "language_info": {
   "codemirror_mode": {
    "name": "ipython",
    "version": 3
   },
   "file_extension": ".py",
   "mimetype": "text/x-python",
   "name": "python",
   "nbconvert_exporter": "python",
   "pygments_lexer": "ipython3",
   "version": "3.12.7"
  }
 },
 "nbformat": 4,
 "nbformat_minor": 2
}
