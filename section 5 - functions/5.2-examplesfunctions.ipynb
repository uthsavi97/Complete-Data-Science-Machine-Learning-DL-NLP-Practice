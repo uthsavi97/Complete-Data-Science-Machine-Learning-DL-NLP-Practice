{
 "cells": [
  {
   "cell_type": "markdown",
   "metadata": {},
   "source": [
    "# Functions Examples\n",
    "# Example 1: Temperature Conversion\n"
   ]
  },
  {
   "cell_type": "code",
   "execution_count": 2,
   "metadata": {},
   "outputs": [],
   "source": [
    "def convert_temperature(temp,unit):\n",
    "    \"\"\"this function converts temperature between celsius and fahrenheit\"\"\"\n",
    "    if unit == \"C\":\n",
    "        return temp * 9/5 + 32 ## celsius to fahrenheit\n",
    "    elif unit == \"F\":\n",
    "        return (temp-32)*5/9 ## fahrenheit to celsius\n",
    "    else:\n",
    "        return None\n",
    "    \n",
    "    print(convert_temperature(25,'C')) \n",
    "    print(convert_temperature(77,'F'))"
   ]
  },
  {
   "cell_type": "code",
   "execution_count": 3,
   "metadata": {},
   "outputs": [
    {
     "name": "stdout",
     "output_type": "stream",
     "text": [
      "False\n",
      "False\n"
     ]
    }
   ],
   "source": [
    "# Example 2: Password strength checker\n",
    "\n",
    "def is_strong_password(password):\n",
    "    \"\"\"This function checks if the password is strong or not\"\"\"\n",
    "    if len(password)<8:\n",
    "        return False\n",
    "    if not any(char.isdigit() for char in password):\n",
    "        return False\n",
    "    if not any(char.islower() for char in password):\n",
    "        return False\n",
    "    if not any(char.isupper() for char in password):\n",
    "        return False\n",
    "    if not any(char in '!@#$%^&*()_+' for char in password):\n",
    "        return False\n",
    "    return True\n",
    "\n",
    "    \n",
    "## calling the function\n",
    "print(is_strong_password(\"weakpwd\"))\n",
    "print(is_strong_password(\"str0ngpwd!\"))"
   ]
  },
  {
   "cell_type": "code",
   "execution_count": null,
   "metadata": {},
   "outputs": [],
   "source": [
    "# 3 calculate the toatal cost of items in a shopping cart\n",
    "\n",
    "def calculate_total_cost(cart):\n",
    "    pass\n",
    "\n",
    "### example cart data \n",
    "\n",
    "cart=[\n",
    "    {'name': 'apple','price':0.5,'quantity':4},\n",
    "    {'name':\"\"}\n",
    "]"
   ]
  }
 ],
 "metadata": {
  "kernelspec": {
   "display_name": "base",
   "language": "python",
   "name": "python3"
  },
  "language_info": {
   "codemirror_mode": {
    "name": "ipython",
    "version": 3
   },
   "file_extension": ".py",
   "mimetype": "text/x-python",
   "name": "python",
   "nbconvert_exporter": "python",
   "pygments_lexer": "ipython3",
   "version": "3.12.7"
  }
 },
 "nbformat": 4,
 "nbformat_minor": 2
}
