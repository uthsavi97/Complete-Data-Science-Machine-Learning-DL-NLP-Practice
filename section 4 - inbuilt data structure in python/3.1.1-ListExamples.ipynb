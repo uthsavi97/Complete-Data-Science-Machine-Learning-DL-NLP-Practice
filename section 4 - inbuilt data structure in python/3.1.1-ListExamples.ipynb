{
 "cells": [
  {
   "cell_type": "markdown",
   "metadata": {},
   "source": [
    "## Real-World Examples Using Lists in Python\n",
    "Lists are one of the most commonly used data structures in Python, thanks to their versatility and ease of use. Here are several practical examples that illustrate their use in real-world scenarios\n",
    "\n",
    "- Example 1. Manage A To Do List\n",
    "\n",
    "Create a To Do List To Keep Track OF Tasks"
   ]
  },
  {
   "cell_type": "code",
   "execution_count": 1,
   "metadata": {},
   "outputs": [
    {
     "name": "stdout",
     "output_type": "stream",
     "text": [
      "dont forget to pay the utility bills\n",
      "To Do list remaining\n",
      "-buy groceries\n",
      "-pay bills\n",
      "-schedule meeting\n",
      "-gp for a run\n"
     ]
    }
   ],
   "source": [
    "to_do_list=[\"buy groceries\",\"clean house\",\"pay bills\"]\n",
    "\n",
    "## adding to task\n",
    "to_do_list.append(\"schedule meeting\")\n",
    "to_do_list.append(\"gp for a run\")\n",
    "\n",
    "## removing a completed task\n",
    "to_do_list.remove(\"clean house\")\n",
    "\n",
    "## checking if a task is in the list\n",
    "if \"pay bills\" in to_do_list:\n",
    "    print(\"dont forget to pay the utility bills\")\n",
    "\n",
    "print(\"To Do list remaining\")\n",
    "for task in to_do_list:\n",
    "    print(f\"-{task}\")"
   ]
  },
  {
   "cell_type": "code",
   "execution_count": 5,
   "metadata": {},
   "outputs": [
    {
     "name": "stdout",
     "output_type": "stream",
     "text": [
      "Average grade: 75.67\n",
      "highest grade: 99\n",
      "lowest grade: 33\n"
     ]
    }
   ],
   "source": [
    "##Example 2: Organizing Student Grades\n",
    "##Create a list to store and calculate average grades for students\n",
    "\n",
    "grades = [76,89,99,33,77,88,98]\n",
    "\n",
    "# adding a new grade\n",
    "\n",
    "grades.append(67)\n",
    "grades.append(54)\n",
    "\n",
    "# calculating the average grade\n",
    "average_grade = sum(grades) / len(grades)\n",
    "print(f\"Average grade: {average_grade:.2f}\")\n",
    "\n",
    "# finding the highest and lowest grade\n",
    "highest_grade = max(grades)\n",
    "lowest_grade = min(grades)\n",
    "print(f\"highest grade: {highest_grade}\")\n",
    "print(f\"lowest grade: {lowest_grade}\")\n"
   ]
  },
  {
   "cell_type": "code",
   "execution_count": 8,
   "metadata": {},
   "outputs": [
    {
     "name": "stdout",
     "output_type": "stream",
     "text": [
      "oranges are in stock.\n"
     ]
    }
   ],
   "source": [
    "#Example 3: Managing An Inventory\n",
    "#Use a list to manage inventory items in a store\n",
    "\n",
    "inventory = [\"apples\",\"bananas\",\"oranges\",\"grapes\"]\n",
    "\n",
    "#adding a new item\n",
    "inventory.append(\"strawberries\")\n",
    "\n",
    "#removing an item that is out of stock\n",
    "inventory.remove(\"bananas\")\n",
    "\n",
    "#Checking if an item is in stock\n",
    "item = \"oranges\"\n",
    "if item in inventory:\n",
    "    print(f\"{item} are in stock.\")\n",
    "else:\n",
    "    print(f\"{item} are out of stock.\")\n",
    "\n",
    "    #printing the inventory\n",
    "    print(\"Inventory list:\")\n",
    "    for item in inventory:\n",
    "        print(f\"-{item}\")"
   ]
  },
  {
   "cell_type": "code",
   "execution_count": 9,
   "metadata": {},
   "outputs": [
    {
     "name": "stdout",
     "output_type": "stream",
     "text": [
      "Positive Feedback Count: 2\n",
      "user feedback:\n",
      "-Great service!\n",
      "-very stisfied\n",
      "-could be better\n",
      "-excellent experince\n",
      "-not happy with the service\n"
     ]
    }
   ],
   "source": [
    "#Example 4:Collecting User Feedback\n",
    "#Use a list to collect and analyze user feedback.\n",
    "\n",
    "feedback = [\"Great service!\",\"very stisfied\",\"could be better\",\"excellent experince\"]\n",
    "\n",
    "#adding a new feedback\n",
    "feedback.append(\"not happy with the service\")\n",
    "\n",
    "# Counting specific feedback\n",
    "positive_feedback_count = sum(1 for comment in feedback if \"great\" in comment.lower() or \"excellent\" in comment.lower())\n",
    "print(f\"Positive Feedback Count: {positive_feedback_count}\")\n",
    "\n",
    "#printing all feedback\n",
    "print(\"user feedback:\")\n",
    "for comment in feedback:\n",
    "    print(f\"-{comment}\")"
   ]
  }
 ],
 "metadata": {
  "kernelspec": {
   "display_name": "base",
   "language": "python",
   "name": "python3"
  },
  "language_info": {
   "codemirror_mode": {
    "name": "ipython",
    "version": 3
   },
   "file_extension": ".py",
   "mimetype": "text/x-python",
   "name": "python",
   "nbconvert_exporter": "python",
   "pygments_lexer": "ipython3",
   "version": "3.12.7"
  }
 },
 "nbformat": 4,
 "nbformat_minor": 2
}
