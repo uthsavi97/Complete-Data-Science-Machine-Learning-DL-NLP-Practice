{
 "cells": [
  {
   "cell_type": "markdown",
   "metadata": {},
   "source": [
    "# Module 3: Data Structures Assignments\n",
    "## Lesson 3.1: Lists\n",
    "### Assignment 1: Creating and Accessing Lists\n",
    "\n",
    "Create a list of the first 20 positive integers. Print the list.\n",
    "\n",
    "### Assignment 2: Accessing List Elements\n",
    "\n",
    "Print the first, middle, and last elements of the list created in Assignment 1.\n",
    "\n",
    "### Assignment 3: List Slicing\n",
    "\n",
    "Print the first five elements, the last five elements, and the elements from index 5 to 15 of the list created in Assignment 1.\n",
    "\n",
    "### Assignment 4: List Comprehensions\n",
    "\n",
    "Create a new list containing the squares of the first 10 positive integers using a list comprehension. Print the new list.\n",
    "\n",
    "### Assignment 5: Filtering Lists\n",
    "\n",
    "Create a new list containing only the even numbers from the list created in Assignment 1 using a list comprehension. Print the new list.\n",
    "\n",
    "### Assignment 6: List Methods\n",
    "\n",
    "Create a list of random numbers and sort it in ascending and descending order. Remove the duplicates from the list and print the modified list.\n",
    "\n",
    "### Assignment 7: Nested Lists\n",
    "\n",
    "Create a nested list representing a 3x3 matrix and print the matrix. Access and print the element at the second row and third column.\n",
    "\n",
    "### Assignment 8: List of Dictionaries\n",
    "\n",
    "Create a list of dictionaries where each dictionary represents a student with keys 'name' and 'score'. Sort the list of dictionaries by the 'score' in descending order and print the sorted list.\n",
    "\n",
    "### Assignment 9: Matrix Transposition\n",
    "\n",
    "Write a function that takes a 3x3 matrix (nested list) as input and returns its transpose. Print the original and transposed matrices.\n",
    "\n",
    "### Assignment 10: Flattening a Nested List\n",
    "\n",
    "Write a function that takes a nested list and flattens it into a single list. Print the original and flattened lists.\n",
    "\n",
    "### Assignment 11: List Manipulation\n",
    "\n",
    "Create a list of the first 10 positive integers. Remove the elements at indices 2, 4, and 6, and insert the element '99' at index 5. Print the modified list.\n",
    "\n",
    "### Assignment 12: List Zipping\n",
    "\n",
    "Create two lists of the same length. Use the `zip` function to combine these lists into a list of tuples and print the result.\n",
    "\n",
    "### Assignment 13: List Reversal\n",
    "\n",
    "Write a function that takes a list and returns a new list with the elements in reverse order. Print the original and reversed lists.\n",
    "\n",
    "### Assignment 14: List Rotation\n",
    "\n",
    "Write a function that rotates a list by n positions. Print the original and rotated lists.\n",
    "\n",
    "### Assignment 15: List Intersection\n",
    "\n",
    "Write a function that takes two lists and returns a new list containing only the elements that are present in both lists. Print the intersected list."
   ]
  },
  {
   "cell_type": "code",
   "execution_count": 1,
   "metadata": {},
   "outputs": [
    {
     "name": "stdout",
     "output_type": "stream",
     "text": [
      "[1, 2, 3, 4, 5, 6, 7, 8, 9, 10, 11, 12, 13, 14, 15, 16, 17, 18, 19, 20]\n"
     ]
    }
   ],
   "source": [
    "### Assignment 1: Creating and Accessing Lists\n",
    "\n",
    "##Create a list of the first 20 positive integers. Print the list.\n",
    "\n",
    "integers = list(range(1,21))\n",
    "print(integers)\n"
   ]
  },
  {
   "cell_type": "code",
   "execution_count": 2,
   "id": "94c84648",
   "metadata": {},
   "outputs": [
    {
     "name": "stdout",
     "output_type": "stream",
     "text": [
      "1\n",
      "[2, 3, 4, 5, 6, 7, 8, 9, 10, 11, 12, 13, 14, 15, 16, 17, 18, 19]\n",
      "20\n"
     ]
    }
   ],
   "source": [
    "### Assignment 2: Accessing List Elements\n",
    "\n",
    "## Print the first, middle, and last elements of the list created in Assignment 1.\n",
    "\n",
    "first,*middle,last = integers\n",
    "print(first)\n",
    "print(middle)\n",
    "print(last)\n"
   ]
  },
  {
   "cell_type": "code",
   "execution_count": 3,
   "id": "28d78b2b",
   "metadata": {},
   "outputs": [
    {
     "name": "stdout",
     "output_type": "stream",
     "text": [
      "[1, 2, 3, 4, 5]\n",
      "[16, 17, 18, 19, 20]\n",
      "[6, 7, 8, 9, 10, 11, 12, 13, 14, 15, 16]\n"
     ]
    }
   ],
   "source": [
    "### Assignment 3: List Slicing\n",
    "\n",
    "## Print the first five elements, the last five elements, and the elements from index 5 to 15 of the list created in Assignment 1.\n",
    "\n",
    "print(integers[:5])\n",
    "print(integers[-5:])\n",
    "print(integers[5:16])"
   ]
  },
  {
   "cell_type": "code",
   "execution_count": 4,
   "id": "91a3eaab",
   "metadata": {},
   "outputs": [
    {
     "name": "stdout",
     "output_type": "stream",
     "text": [
      "[1, 4, 9, 16, 25, 36, 49, 64, 81, 100]\n"
     ]
    }
   ],
   "source": [
    "### Assignment 4: List Comprehensions\n",
    "\n",
    "##Create a new list containing the squares of the first 10 positive integers using a list comprehension. Print the new list.\n",
    "\n",
    "squares = [x**2 for x in range(1,11)]\n",
    "print(squares)"
   ]
  },
  {
   "cell_type": "code",
   "execution_count": 11,
   "id": "73c9a2a0",
   "metadata": {},
   "outputs": [
    {
     "name": "stdout",
     "output_type": "stream",
     "text": [
      "[2, 4, 6, 8, 10, 12, 14, 16, 18, 20]\n"
     ]
    }
   ],
   "source": [
    "### Assignment 5: Filtering Lists\n",
    "\n",
    "## Create a new list containing only the even numbers from the list created in Assignment 1 using a list comprehension. Print the new list.\n",
    "\n",
    "evens = [x for x in integers if x % 2 == 0]\n",
    "print(evens)"
   ]
  },
  {
   "cell_type": "code",
   "execution_count": 17,
   "id": "d39e10e8",
   "metadata": {},
   "outputs": [
    {
     "name": "stdout",
     "output_type": "stream",
     "text": [
      "[9, 8, 6, 8, 5, 2, 8, 4, 1, 6, 3, 5, 9, 1, 5, 6, 10, 2, 5, 3]\n",
      "[1, 1, 2, 2, 3, 3, 4, 5, 5, 5, 5, 6, 6, 6, 8, 8, 8, 9, 9, 10]\n",
      "[10, 9, 9, 8, 8, 8, 6, 6, 6, 5, 5, 5, 5, 4, 3, 3, 2, 2, 1, 1]\n",
      "[1, 2, 3, 4, 5, 6, 8, 9, 10]\n"
     ]
    }
   ],
   "source": [
    "### Assignment 6: List Methods\n",
    "\n",
    "# Create a list of random numbers and sort it in ascending and descending order. Remove the duplicates from the list and print the modified list.\n",
    "\n",
    "import random\n",
    "random_numbers = [random.randint(1,10) for x in range(20)]\n",
    "print(random_numbers)\n",
    "ascending = sorted(random_numbers)\n",
    "print(ascending)\n",
    "descending = sorted(random_numbers, reverse=True)\n",
    "print(descending)\n",
    "no_duplicates = list(set(random_numbers))\n",
    "print(no_duplicates)"
   ]
  },
  {
   "cell_type": "code",
   "execution_count": 25,
   "id": "e3ffce95",
   "metadata": {},
   "outputs": [
    {
     "name": "stdout",
     "output_type": "stream",
     "text": [
      "[[1, 2, 3], [4, 5, 6], [7, 8, 9]]\n",
      "[1, 2, 3]\n",
      "element at the second row and third column: 6\n",
      "[4, 5, 6]\n",
      "element at the second row and third column: 6\n",
      "[7, 8, 9]\n",
      "element at the second row and third column: 6\n"
     ]
    }
   ],
   "source": [
    "### Assignment 7: Nested Lists\n",
    "\n",
    "# Create a nested list representing a 3x3 matrix and print the matrix. Access and print the element at the second row and third column.\n",
    "matrix = [[1,2,3],[4,5,6],[7,8,9]]\n",
    "print(matrix)\n",
    "for row in matrix:\n",
    "    print(row)\n",
    "    print(f\"element at the second row and third column: {matrix[1][2]}\")\n",
    "    "
   ]
  },
  {
   "cell_type": "code",
   "execution_count": 28,
   "id": "8dbbaa16",
   "metadata": {},
   "outputs": [
    {
     "name": "stdout",
     "output_type": "stream",
     "text": [
      "[{'name': 'uthsavi', 'score': 100}, {'name': 'pooja', 'score': 90}, {'name': 'anu', 'score': 54}]\n"
     ]
    }
   ],
   "source": [
    "### Assignment 8: List of Dictionaries\n",
    "\n",
    "## Create a list of dictionaries where each dictionary represents a student with keys 'name' and 'score'. Sort the list of dictionaries by the 'score' in descending order and print the sorted list.\n",
    "dict_list = [{'name': 'uthsavi', 'score': 100}, {'name': 'pooja', 'score': 90}, {'name': 'anu', 'score': 54}]\n",
    "print(dict_list)\n"
   ]
  },
  {
   "cell_type": "code",
   "execution_count": null,
   "id": "dd5facd2",
   "metadata": {},
   "outputs": [],
   "source": [
    "### Assignment 9: Matrix Transposition\n",
    "\n",
    "## Write a function that takes a 3x3 matrix (nested list) as input and returns its transpose. Print the original and transposed matrices.\n",
    "\n",
    "def transpose(matrix):\n",
    "    transposed = [[matrix[i][j]]]\n",
    "    "
   ]
  },
  {
   "cell_type": "code",
   "execution_count": null,
   "id": "38b33e2f",
   "metadata": {},
   "outputs": [],
   "source": []
  }
 ],
 "metadata": {
  "kernelspec": {
   "display_name": "base",
   "language": "python",
   "name": "python3"
  },
  "language_info": {
   "codemirror_mode": {
    "name": "ipython",
    "version": 3
   },
   "file_extension": ".py",
   "mimetype": "text/x-python",
   "name": "python",
   "nbconvert_exporter": "python",
   "pygments_lexer": "ipython3",
   "version": "3.12.7"
  }
 },
 "nbformat": 4,
 "nbformat_minor": 5
}
